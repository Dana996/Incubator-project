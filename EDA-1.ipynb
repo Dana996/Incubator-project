{
 "cells": [
  {
   "cell_type": "markdown",
   "metadata": {},
   "source": [
    "# Exploratory Data Analysis for H1B visas - Wage effect\n",
    "\n",
    "This is an initial analysis performed on a data set obtained on [Kaggle](https://www.kaggle.com/nsharan/h-1b-visa) and containing over 3 million rows. More data can be obtained from the *Office of Foreign Labor Certification* which outputs yearly data sets. See this [link](https://www.dol.gov/agencies/eta/foreign-labor/performance) for more performance indices.\n",
    "\n",
    "For this section, we load the data set with 4 columns: case status, full time position, prevailing wage and year. The case status is one of\n",
    "\n",
    "- CERTIFIED-WITHDRAWN\n",
    "- WITHDRAWN\n",
    "- CERTIFIED\n",
    "- DENIED\n",
    "- REJECTED (only 2 rows)\n",
    "- INVALIDATED (only 1 row)\n",
    "- PENDING QUALITY AND COMPLIANCE REVIEW - UNASSIGNED (only 15 rows)\n",
    "- Not available (nan)\n",
    "\n",
    "The full time position indicates whether or not a position is full time. The year ranges from 2011 to 2016.\n",
    "\n",
    "Our final goal is to estimate the probability of having an H-1B visa application rejected. In order to demonstrate viability, we show that there is sufficient data to obtain meaningful results. In this notebook, we focus on the relationship between wages and applications. In particular, we compute a chi-square statistic to show that the is a clear relationship between wages and the probability of seeing and H-1B application denied."
   ]
  },
  {
   "cell_type": "code",
   "execution_count": 62,
   "metadata": {},
   "outputs": [],
   "source": [
    "#Imports\n",
    "import numpy as np\n",
    "import pandas as pd\n",
    "import matplotlib.pyplot as plt\n",
    "plt.style.use('bmh')\n",
    "import ipywidgets as widgets\n",
    "from scipy.stats import chi2_contingency"
   ]
  },
  {
   "cell_type": "code",
   "execution_count": 2,
   "metadata": {},
   "outputs": [],
   "source": [
    "df = pd.read_csv('data/h1b_kaggle.csv',\n",
    "                 usecols = ['CASE_STATUS', 'FULL_TIME_POSITION', 'PREVAILING_WAGE', 'YEAR'])"
   ]
  },
  {
   "cell_type": "markdown",
   "metadata": {},
   "source": [
    "## Wage Distribution\n",
    "\n",
    "We plot wage distribution for full time and non full time positions. The plots are presented for the totality of the data, as well as by year.\n",
    "\n",
    "Notes: We remove rows with wages of of 0 as well as those whose wages are above $250 000 (we consider very high wages to be outliers.). Doing so, we omit an insignificant amount of data (about 0.1\\%)."
   ]
  },
  {
   "cell_type": "code",
   "execution_count": 31,
   "metadata": {
    "tags": [
     "hide-input"
    ]
   },
   "outputs": [
    {
     "data": {
      "application/vnd.jupyter.widget-view+json": {
       "model_id": "a55be929681940f0826491a93455e129",
       "version_major": 2,
       "version_minor": 0
      },
      "text/plain": [
       "Tab(children=(Output(), Output(), Output(), Output(), Output(), Output(), Output()), _titles={'0': 'Total', '1…"
      ]
     },
     "metadata": {},
     "output_type": "display_data"
    }
   ],
   "source": [
    "%matplotlib inline\n",
    "\n",
    "# Total vs. full time vs. not full time\n",
    "df_wage = df[(df['PREVAILING_WAGE'] <= 250000) & (df['PREVAILING_WAGE'] != 0) & (df['PREVAILING_WAGE'].notna())].copy()\n",
    "df_full_time = df_wage[df_wage['FULL_TIME_POSITION'] == 'Y']\n",
    "df_part_time = df_wage[df_wage['FULL_TIME_POSITION'] == 'N']\n",
    "\n",
    "#Widget Setup\n",
    "w_out = [widgets.Output()]\n",
    "for i in range(1, 7):\n",
    "    w_out.append(widgets.Output())\n",
    "\n",
    "#----------------------------------------------------------------------\n",
    "##Total\n",
    "with w_out[0]:\n",
    "    fig, ax = plt.subplots(3, figsize=(12, 12))\n",
    "    fig.suptitle('Wage distribution')\n",
    "    \n",
    "    #Total\n",
    "    ax[0].hist(df_wage['PREVAILING_WAGE'], bins = 100, edgecolor = 'white')\n",
    "    \n",
    "    #Full Time\n",
    "    ax[1].hist(df_full_time['PREVAILING_WAGE'], bins = 100, edgecolor = 'white')\n",
    "    ax[1].set_title('Full time')\n",
    "    \n",
    "    #Part Time\n",
    "    ax[2].hist(df_part_time['PREVAILING_WAGE'], bins = 100, edgecolor = 'white')\n",
    "    ax[2].set_title('Not full time')\n",
    "\n",
    "    plt.show(fig)\n",
    "    \n",
    "#----------------------------------------------------------------------\n",
    "##By year\n",
    "for i in range(1, 7):\n",
    "    with w_out[i]:\n",
    "        year = 2010 + i\n",
    "        df_wage_year = df_wage[df_wage['YEAR'] == year]\n",
    "        df_full_time_year = df_full_time[df_full_time['YEAR'] == year]\n",
    "        df_part_time_year = df_part_time[df_part_time['YEAR'] == year]\n",
    "        \n",
    "        fig, ax = plt.subplots(3, figsize=(12, 12))\n",
    "        fig.suptitle('Wage distribution in ' + str(year))\n",
    "    \n",
    "        #Total\n",
    "        ax[0].hist(df_wage_year['PREVAILING_WAGE'], bins = 100, edgecolor = 'white')\n",
    "    \n",
    "        #Full Time\n",
    "        ax[1].hist(df_full_time_year['PREVAILING_WAGE'], bins = 100, edgecolor = 'white')\n",
    "        ax[1].set_title('Full time')\n",
    "    \n",
    "        #Part Time\n",
    "        ax[2].hist(df_part_time_year['PREVAILING_WAGE'], bins = 100, edgecolor = 'white')\n",
    "        ax[2].set_title('Not full time')\n",
    "        \n",
    "        plt.show(fig)\n",
    "\n",
    "tabs = widgets.Tab(children = w_out)\n",
    "tabs.set_title(0, 'Total')\n",
    "for i in range(1, 7):\n",
    "    tabs.set_title(i, str(2010+i))\n",
    "display(tabs)"
   ]
  },
  {
   "cell_type": "markdown",
   "metadata": {},
   "source": [
    "### Observations\n",
    "\n",
    "We observe that the separation between full time and not full time does not make sense for the year 2016. In fact, it seems that the data was simply divided between wages above and below \\$70 000.\n",
    "\n",
    "Moreover, we can see that most applications that are not full time appeared in the year 2016. Indeed, see the following table."
   ]
  },
  {
   "cell_type": "code",
   "execution_count": 32,
   "metadata": {
    "tags": [
     "hide-input"
    ]
   },
   "outputs": [
    {
     "data": {
      "text/html": [
       "<div>\n",
       "<style scoped>\n",
       "    .dataframe tbody tr th:only-of-type {\n",
       "        vertical-align: middle;\n",
       "    }\n",
       "\n",
       "    .dataframe tbody tr th {\n",
       "        vertical-align: top;\n",
       "    }\n",
       "\n",
       "    .dataframe thead th {\n",
       "        text-align: right;\n",
       "    }\n",
       "</style>\n",
       "<table border=\"1\" class=\"dataframe\">\n",
       "  <thead>\n",
       "    <tr style=\"text-align: right;\">\n",
       "      <th>YEAR</th>\n",
       "      <th>2011.0</th>\n",
       "      <th>2012.0</th>\n",
       "      <th>2013.0</th>\n",
       "      <th>2014.0</th>\n",
       "      <th>2015.0</th>\n",
       "      <th>2016.0</th>\n",
       "    </tr>\n",
       "  </thead>\n",
       "  <tbody>\n",
       "    <tr>\n",
       "      <th>0</th>\n",
       "      <td>16579</td>\n",
       "      <td>15617</td>\n",
       "      <td>13557</td>\n",
       "      <td>14182</td>\n",
       "      <td>15093</td>\n",
       "      <td>351128</td>\n",
       "    </tr>\n",
       "  </tbody>\n",
       "</table>\n",
       "</div>"
      ],
      "text/plain": [
       "YEAR  2011.0  2012.0  2013.0  2014.0  2015.0  2016.0\n",
       "0      16579   15617   13557   14182   15093  351128"
      ]
     },
     "execution_count": 32,
     "metadata": {},
     "output_type": "execute_result"
    }
   ],
   "source": [
    "df_wage[df_wage['FULL_TIME_POSITION'] == 'N'].groupby('YEAR').size().to_frame().T"
   ]
  },
  {
   "cell_type": "markdown",
   "metadata": {},
   "source": [
    "This is probably due to some error in the data collection. We therefore will not separate between full time and non full time positions in the year 2016."
   ]
  },
  {
   "cell_type": "markdown",
   "metadata": {},
   "source": [
    "## Ratio of denied applications by wage\n",
    "\n",
    "We will separate the wage data into 5 groups corresponding each corresponring to 20\\% of the data. More specifically, we cut the data by quantiles. We then compare the number of denied versus certified applications for each bin. We will plot our data and perform a chi squared test.\n",
    "\n",
    "For this initial analysis, we do not distinguish between full time and non full time applications."
   ]
  },
  {
   "cell_type": "code",
   "execution_count": 76,
   "metadata": {
    "tags": [
     "hide-input"
    ]
   },
   "outputs": [
    {
     "data": {
      "application/vnd.jupyter.widget-view+json": {
       "model_id": "cdfc2a137fd8475ba17b2acb4e220231",
       "version_major": 2,
       "version_minor": 0
      },
      "text/plain": [
       "Tab(children=(Output(), Output(), Output(), Output(), Output(), Output(), Output()), _titles={'0': 'Total', '1…"
      ]
     },
     "metadata": {},
     "output_type": "display_data"
    }
   ],
   "source": [
    "%matplotlib inline\n",
    "\n",
    "#Widget Setup\n",
    "w_out = [widgets.Output()]\n",
    "for i in range(1, 7):\n",
    "    w_out.append(widgets.Output())\n",
    "\n",
    "#----------------------------------------------------------------------\n",
    "##Total\n",
    "\n",
    "#Grouping by wage group\n",
    "df_wage['q5'], bins = pd.qcut(df_wage['PREVAILING_WAGE'], q = 5, labels = [1, 2, 3, 4, 5], retbins = True)\n",
    "\n",
    "#Count by wage group - denied vs. certified\n",
    "q5_denied = df_wage[df_wage['CASE_STATUS'] == 'DENIED'].groupby('q5').size()\n",
    "q5_cert = df_wage[(df_wage['CASE_STATUS'] == 'CERTIFIED') | (df_wage['CASE_STATUS'] == 'CERTIFIED-WITHDRAWN')].groupby('q5').size()\n",
    "\n",
    "#Get ratio of denied/certified by group\n",
    "q5_ratio = q5_denied/q5_cert\n",
    "\n",
    "##Labels - to siplay wage range\n",
    "labels = []\n",
    "for i in range(5):\n",
    "    labels.append('(' + str(bins[i]) + ', ' + str(bins[i+1]) + ']')\n",
    "\n",
    "#Plot\n",
    "with w_out[0]:\n",
    "    plt.subplots(figsize=(12, 8))\n",
    "    plt.bar(q5_ratio.index, q5_ratio.values, align = 'center', alpha = 0.7,  linewidth=0)\n",
    "    plt.xticks([1, 2, 3, 4, 5], labels)\n",
    "    plt.show()\n",
    "    \n",
    "#----------------------------------------------------------------------\n",
    "##By year\n",
    "for i in range(1, 7):\n",
    "    with w_out[i]:\n",
    "        year = 2010 + i\n",
    "        \n",
    "        #Grouping by wage group\n",
    "        df_year = df_wage[df_wage['YEAR'] == year].copy()\n",
    "        df_year['q5'], bins = pd.qcut(df_year['PREVAILING_WAGE'], q = 5, labels = [1, 2, 3, 4, 5], retbins = True)\n",
    "\n",
    "        #Count by wage group - denied vs. certified\n",
    "        q5_denied = df_year[df_year['CASE_STATUS'] == 'DENIED'].groupby('q5').size()\n",
    "        q5_cert = df_year[(df_year['CASE_STATUS'] == 'CERTIFIED') | (df_year['CASE_STATUS'] == 'CERTIFIED-WITHDRAWN')].groupby('q5').size()\n",
    "\n",
    "        #Get ratio of denied/certified by group\n",
    "        q5_ratio = q5_denied/q5_cert\n",
    "        \n",
    "        \n",
    "        ##Labels - to siplay wage range\n",
    "        labels = []\n",
    "        for i in range(5):\n",
    "            labels.append('(' + str(bins[i]) + ', ' + str(bins[i+1]) + ']')\n",
    "    \n",
    "        #Delete copy\n",
    "        del df_year\n",
    "        \n",
    "        plt.subplots(figsize=(12, 8))\n",
    "        plt.bar(q5_ratio.index, q5_ratio.values, align = 'center', alpha = 0.7,  linewidth=0)\n",
    "        plt.xticks([1, 2, 3, 4, 5], labels)\n",
    "        plt.show()\n",
    "\n",
    "tabs = widgets.Tab(children = w_out)\n",
    "tabs.set_title(0, 'Total')\n",
    "for i in range(1, 7):\n",
    "    tabs.set_title(i, str(2010+i))\n",
    "display(tabs)"
   ]
  },
  {
   "cell_type": "markdown",
   "metadata": {},
   "source": [
    "### Chi-Squared Test\n",
    "\n",
    "We perform a chi-squared test to see if the number of denied and certified applications is independent of wage group."
   ]
  },
  {
   "cell_type": "code",
   "execution_count": 72,
   "metadata": {
    "tags": [
     "hide-input"
    ]
   },
   "outputs": [
    {
     "data": {
      "application/vnd.jupyter.widget-view+json": {
       "model_id": "a4ac02a65b184095a87ba315519fb3be",
       "version_major": 2,
       "version_minor": 0
      },
      "text/plain": [
       "Tab(children=(Output(), Output(), Output(), Output(), Output(), Output(), Output()), _titles={'0': 'Total', '1…"
      ]
     },
     "metadata": {},
     "output_type": "display_data"
    }
   ],
   "source": [
    "%matplotlib inline\n",
    "\n",
    "#Widget Setup\n",
    "w_out = [widgets.Output()]\n",
    "for i in range(1, 7):\n",
    "    w_out.append(widgets.Output())\n",
    "\n",
    "#----------------------------------------------------------------------\n",
    "##Total\n",
    "\n",
    "#Count by wage group - denied vs. certified\n",
    "q5_denied = df_wage[df_wage['CASE_STATUS'] == 'DENIED'].groupby('q5').size()\n",
    "q5_cert = df_wage[(df_wage['CASE_STATUS'] == 'CERTIFIED') | (df_wage['CASE_STATUS'] == 'CERTIFIED-WITHDRAWN')].groupby('q5').size()\n",
    "\n",
    "#Perform Chi squared test\n",
    "stat, p, dof, expected = chi2_contingency([q5_denied, q5_cert])\n",
    "\n",
    "#Print\n",
    "with w_out[0]:\n",
    "    print('The chi square statistic is:', stat)\n",
    "    print('This yields a p-value of:', p)\n",
    "    \n",
    "#----------------------------------------------------------------------\n",
    "##By year\n",
    "for i in range(1, 7):\n",
    "    with w_out[i]:\n",
    "        year = 2010 + i\n",
    "        \n",
    "        #data frame by year ad grouping\n",
    "        df_year = df_wage[df_wage['YEAR'] == year].copy()\n",
    "        df_year['q5'] = pd.qcut(df_year['PREVAILING_WAGE'], q = 5, labels = [1, 2, 3, 4, 5])\n",
    "        \n",
    "        #Count by wage group - denied vs. certified\n",
    "        q5_denied = df_year[df_year['CASE_STATUS'] == 'DENIED'].groupby('q5').size()\n",
    "        q5_cert = df_year[(df_year['CASE_STATUS'] == 'CERTIFIED') | (df_year['CASE_STATUS'] == 'CERTIFIED-WITHDRAWN')].groupby('q5').size()\n",
    "\n",
    "        #Perform Chi squared test\n",
    "        stat, p, dof, expected = chi2_contingency([q5_denied, q5_cert])\n",
    "        \n",
    "        #Delete copied data\n",
    "        del df_year\n",
    "        \n",
    "        #Print\n",
    "        print('The chi square statistic is:', stat)\n",
    "        print('This yields a p-value of:', p)\n",
    "        \n",
    "\n",
    "tabs = widgets.Tab(children = w_out)\n",
    "tabs.set_title(0, 'Total')\n",
    "for i in range(1, 7):\n",
    "    tabs.set_title(i, str(2010+i))\n",
    "display(tabs)"
   ]
  },
  {
   "cell_type": "markdown",
   "metadata": {},
   "source": [
    "#### Conclusion\n",
    "\n",
    "We see that there is a correlation between wage groups and the ratio of denied:certified applications."
   ]
  }
 ],
 "metadata": {
  "kernelspec": {
   "display_name": "Python 3",
   "language": "python",
   "name": "python3"
  },
  "language_info": {
   "codemirror_mode": {
    "name": "ipython",
    "version": 3
   },
   "file_extension": ".py",
   "mimetype": "text/x-python",
   "name": "python",
   "nbconvert_exporter": "python",
   "pygments_lexer": "ipython3",
   "version": "3.8.3"
  }
 },
 "nbformat": 4,
 "nbformat_minor": 4
}
